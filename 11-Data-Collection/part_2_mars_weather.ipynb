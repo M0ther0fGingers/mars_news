{
 "cells": [
  {
   "attachments": {},
   "cell_type": "markdown",
   "metadata": {},
   "source": [
    "# Module 11 Challenge\n",
    "## Deliverable 2: Scrape and Analyze Mars Weather Data"
   ]
  },
  {
   "cell_type": "code",
   "execution_count": 2,
   "metadata": {},
   "outputs": [],
   "source": [
    "# Import relevant libraries\n",
    "from splinter import Browser\n",
    "from bs4 import BeautifulSoup\n",
    "import matplotlib.pyplot as plt\n",
    "import pandas as pd\n",
    "import os\n",
    "from pathlib import Path"
   ]
  },
  {
   "cell_type": "code",
   "execution_count": 3,
   "metadata": {},
   "outputs": [],
   "source": [
    "browser = Browser('chrome')"
   ]
  },
  {
   "attachments": {},
   "cell_type": "markdown",
   "metadata": {},
   "source": [
    "### Step 1: Visit the Website\n",
    "\n",
    "Use automated browsing to visit the [Mars Temperature Data Site](https://static.bc-edx.com/data/web/mars_facts/temperature.html). Inspect the page to identify which elements to scrape.\n",
    "\n",
    "   > **Hint** To identify which elements to scrape, you might want to inspect the page by using Chrome DevTools to discover whether the table contains usable classes.\n"
   ]
  },
  {
   "cell_type": "code",
   "execution_count": 4,
   "metadata": {},
   "outputs": [],
   "source": [
    "# Visit the website\n",
    "# https://static.bc-edx.com/data/web/mars_facts/temperature.html\n",
    "url = \"https://static.bc-edx.com/data/web/mars_facts/temperature.html\"\n",
    "browser.visit(url)"
   ]
  },
  {
   "attachments": {},
   "cell_type": "markdown",
   "metadata": {},
   "source": [
    "### Step 2: Scrape the Table\n",
    "\n",
    "Create a Beautiful Soup object and use it to scrape the data in the HTML table.\n",
    "\n",
    "Note that this can also be achieved by using the Pandas `read_html` function. However, use Beautiful Soup here to continue sharpening your web scraping skills."
   ]
  },
  {
   "cell_type": "code",
   "execution_count": 5,
   "metadata": {},
   "outputs": [],
   "source": [
    "# Create a Beautiful Soup Object\n",
    "html = browser.html\n",
    "soup = BeautifulSoup(html, 'html.parser')"
   ]
  },
  {
   "cell_type": "code",
   "execution_count": 6,
   "metadata": {},
   "outputs": [],
   "source": [
    "# Extract all rows of data\n",
    "row = soup.find_all(class_='data-row')"
   ]
  },
  {
   "attachments": {},
   "cell_type": "markdown",
   "metadata": {},
   "source": [
    "### Step 3: Store the Data\n",
    "\n",
    "Assemble the scraped data into a Pandas DataFrame. The columns should have the same headings as the table on the website. Here’s an explanation of the column headings:\n",
    "\n",
    "* `id`: the identification number of a single transmission from the Curiosity rover\n",
    "* `terrestrial_date`: the date on Earth\n",
    "* `sol`: the number of elapsed sols (Martian days) since Curiosity landed on Mars\n",
    "* `ls`: the solar longitude\n",
    "* `month`: the Martian month\n",
    "* `min_temp`: the minimum temperature, in Celsius, of a single Martian day (sol)\n",
    "* `pressure`: The atmospheric pressure at Curiosity's location"
   ]
  },
  {
   "cell_type": "code",
   "execution_count": 7,
   "metadata": {},
   "outputs": [],
   "source": [
    "# Create an empty list\n",
    "temps_list = []\n",
    "\n",
    "# Loop through the scraped data to create a list of rows\n",
    "for r in row:\n",
    "    # find all <td> elements in the row\n",
    "    cells = r.find_all('td')\n",
    "    # Extract the text\n",
    "    id = cells[0].get_text(strip=True)\n",
    "    terrestrial_date = cells[1].get_text(strip=True),\n",
    "    sol = cells[2].get_text(strip=True),\n",
    "    ls = cells[3].get_text(strip=True),\n",
    "    month = cells[4].get_text(strip=True),\n",
    "    min_temp = cells[5].get_text(strip=True),\n",
    "    pressure = cells[6].get_text(strip=True)\n",
    "    # Save the results to a dictionary\n",
    "    summary_dict = {\n",
    "        \"id\": id,\n",
    "        \"terrestrial_date\": terrestrial_date,\n",
    "        \"sol\": sol,\n",
    "        \"ls\": ls,\n",
    "        \"month\": month,\n",
    "        \"min_temp\": min_temp,\n",
    "        \"pressure\": pressure\n",
    "    }\n",
    "    # Append the dictionary to the list\n",
    "    temps_list.append(summary_dict)\n",
    "# Print the list: print step commented out to reduce visual clutter for grading.  \n",
    "#for item in temps_list:\n",
    "    #print(item) "
   ]
  },
  {
   "cell_type": "code",
   "execution_count": 8,
   "metadata": {},
   "outputs": [],
   "source": [
    "# Create a Pandas DataFrame by using the list of rows and a list of the column names\n",
    "temps_list_df = pd.DataFrame(temps_list)"
   ]
  },
  {
   "cell_type": "code",
   "execution_count": 9,
   "metadata": {},
   "outputs": [
    {
     "data": {
      "application/vnd.microsoft.datawrangler.viewer.v0+json": {
       "columns": [
        {
         "name": "index",
         "rawType": "int64",
         "type": "integer"
        },
        {
         "name": "id",
         "rawType": "object",
         "type": "string"
        },
        {
         "name": "terrestrial_date",
         "rawType": "object",
         "type": "unknown"
        },
        {
         "name": "sol",
         "rawType": "object",
         "type": "unknown"
        },
        {
         "name": "ls",
         "rawType": "object",
         "type": "unknown"
        },
        {
         "name": "month",
         "rawType": "object",
         "type": "unknown"
        },
        {
         "name": "min_temp",
         "rawType": "object",
         "type": "unknown"
        },
        {
         "name": "pressure",
         "rawType": "object",
         "type": "string"
        }
       ],
       "conversionMethod": "pd.DataFrame",
       "ref": "2a0fce83-4b34-41a6-8d9a-edc937234e19",
       "rows": [
        [
         "0",
         "2",
         "('2012-08-16',)",
         "('10',)",
         "('155',)",
         "('6',)",
         "('-75.0',)",
         "739.0"
        ],
        [
         "1",
         "13",
         "('2012-08-17',)",
         "('11',)",
         "('156',)",
         "('6',)",
         "('-76.0',)",
         "740.0"
        ],
        [
         "2",
         "24",
         "('2012-08-18',)",
         "('12',)",
         "('156',)",
         "('6',)",
         "('-76.0',)",
         "741.0"
        ],
        [
         "3",
         "35",
         "('2012-08-19',)",
         "('13',)",
         "('157',)",
         "('6',)",
         "('-74.0',)",
         "732.0"
        ],
        [
         "4",
         "46",
         "('2012-08-20',)",
         "('14',)",
         "('157',)",
         "('6',)",
         "('-74.0',)",
         "740.0"
        ]
       ],
       "shape": {
        "columns": 7,
        "rows": 5
       }
      },
      "text/html": [
       "<div>\n",
       "<style scoped>\n",
       "    .dataframe tbody tr th:only-of-type {\n",
       "        vertical-align: middle;\n",
       "    }\n",
       "\n",
       "    .dataframe tbody tr th {\n",
       "        vertical-align: top;\n",
       "    }\n",
       "\n",
       "    .dataframe thead th {\n",
       "        text-align: right;\n",
       "    }\n",
       "</style>\n",
       "<table border=\"1\" class=\"dataframe\">\n",
       "  <thead>\n",
       "    <tr style=\"text-align: right;\">\n",
       "      <th></th>\n",
       "      <th>id</th>\n",
       "      <th>terrestrial_date</th>\n",
       "      <th>sol</th>\n",
       "      <th>ls</th>\n",
       "      <th>month</th>\n",
       "      <th>min_temp</th>\n",
       "      <th>pressure</th>\n",
       "    </tr>\n",
       "  </thead>\n",
       "  <tbody>\n",
       "    <tr>\n",
       "      <th>0</th>\n",
       "      <td>2</td>\n",
       "      <td>(2012-08-16,)</td>\n",
       "      <td>(10,)</td>\n",
       "      <td>(155,)</td>\n",
       "      <td>(6,)</td>\n",
       "      <td>(-75.0,)</td>\n",
       "      <td>739.0</td>\n",
       "    </tr>\n",
       "    <tr>\n",
       "      <th>1</th>\n",
       "      <td>13</td>\n",
       "      <td>(2012-08-17,)</td>\n",
       "      <td>(11,)</td>\n",
       "      <td>(156,)</td>\n",
       "      <td>(6,)</td>\n",
       "      <td>(-76.0,)</td>\n",
       "      <td>740.0</td>\n",
       "    </tr>\n",
       "    <tr>\n",
       "      <th>2</th>\n",
       "      <td>24</td>\n",
       "      <td>(2012-08-18,)</td>\n",
       "      <td>(12,)</td>\n",
       "      <td>(156,)</td>\n",
       "      <td>(6,)</td>\n",
       "      <td>(-76.0,)</td>\n",
       "      <td>741.0</td>\n",
       "    </tr>\n",
       "    <tr>\n",
       "      <th>3</th>\n",
       "      <td>35</td>\n",
       "      <td>(2012-08-19,)</td>\n",
       "      <td>(13,)</td>\n",
       "      <td>(157,)</td>\n",
       "      <td>(6,)</td>\n",
       "      <td>(-74.0,)</td>\n",
       "      <td>732.0</td>\n",
       "    </tr>\n",
       "    <tr>\n",
       "      <th>4</th>\n",
       "      <td>46</td>\n",
       "      <td>(2012-08-20,)</td>\n",
       "      <td>(14,)</td>\n",
       "      <td>(157,)</td>\n",
       "      <td>(6,)</td>\n",
       "      <td>(-74.0,)</td>\n",
       "      <td>740.0</td>\n",
       "    </tr>\n",
       "  </tbody>\n",
       "</table>\n",
       "</div>"
      ],
      "text/plain": [
       "   id terrestrial_date    sol      ls month  min_temp pressure\n",
       "0   2    (2012-08-16,)  (10,)  (155,)  (6,)  (-75.0,)    739.0\n",
       "1  13    (2012-08-17,)  (11,)  (156,)  (6,)  (-76.0,)    740.0\n",
       "2  24    (2012-08-18,)  (12,)  (156,)  (6,)  (-76.0,)    741.0\n",
       "3  35    (2012-08-19,)  (13,)  (157,)  (6,)  (-74.0,)    732.0\n",
       "4  46    (2012-08-20,)  (14,)  (157,)  (6,)  (-74.0,)    740.0"
      ]
     },
     "execution_count": 9,
     "metadata": {},
     "output_type": "execute_result"
    }
   ],
   "source": [
    "# Confirm DataFrame was created successfully\n",
    "temps_list_df.head()"
   ]
  },
  {
   "cell_type": "code",
   "execution_count": 10,
   "metadata": {},
   "outputs": [],
   "source": [
    "# Columns extracted as a tuple in the scraping step. \n",
    "# Used a lambda to extract the first part of the tuple.  \n",
    "temps_list_df[\"terrestrial_date\"] = temps_list_df[\"terrestrial_date\"].apply(\n",
    "    lambda x: x[0] if isinstance(x, tuple) else x)\n",
    "temps_list_df[\"sol\"] = temps_list_df[\"sol\"].apply(\n",
    "    lambda x: x[0] if isinstance(x, tuple) else x)\n",
    "temps_list_df[\"ls\"] = temps_list_df[\"ls\"].apply(\n",
    "    lambda x: x[0] if isinstance(x, tuple) else x)\n",
    "temps_list_df[\"month\"] = temps_list_df[\"month\"].apply(\n",
    "    lambda x: x[0] if isinstance(x, tuple) else x)\n",
    "temps_list_df[\"min_temp\"] = temps_list_df[\"min_temp\"].apply(\n",
    "    lambda x: x[0] if isinstance(x, tuple) else x)\n"
   ]
  },
  {
   "attachments": {},
   "cell_type": "markdown",
   "metadata": {},
   "source": [
    "### Step 4: Prepare Data for Analysis\n",
    "\n",
    "Examine the data types that are currently associated with each column. If necessary, cast (or convert) the data to the appropriate `datetime`, `int`, or `float` data types.\n",
    "\n",
    "  > **Hint** You can use the Pandas `astype` and `to_datetime` methods to accomplish this task.\n"
   ]
  },
  {
   "cell_type": "code",
   "execution_count": 11,
   "metadata": {},
   "outputs": [
    {
     "name": "stdout",
     "output_type": "stream",
     "text": [
      "id                  object\n",
      "terrestrial_date    object\n",
      "sol                 object\n",
      "ls                  object\n",
      "month               object\n",
      "min_temp            object\n",
      "pressure            object\n",
      "dtype: object\n"
     ]
    }
   ],
   "source": [
    "# Examine data type of each column\n",
    "print(temps_list_df.dtypes)"
   ]
  },
  {
   "cell_type": "code",
   "execution_count": 12,
   "metadata": {},
   "outputs": [
    {
     "data": {
      "application/vnd.microsoft.datawrangler.viewer.v0+json": {
       "columns": [
        {
         "name": "index",
         "rawType": "int64",
         "type": "integer"
        },
        {
         "name": "id",
         "rawType": "object",
         "type": "string"
        },
        {
         "name": "terrestrial_date",
         "rawType": "datetime64[ns]",
         "type": "datetime"
        },
        {
         "name": "sol",
         "rawType": "int64",
         "type": "integer"
        },
        {
         "name": "ls",
         "rawType": "int64",
         "type": "integer"
        },
        {
         "name": "month",
         "rawType": "int64",
         "type": "integer"
        },
        {
         "name": "min_temp",
         "rawType": "float64",
         "type": "float"
        },
        {
         "name": "pressure",
         "rawType": "float64",
         "type": "float"
        }
       ],
       "conversionMethod": "pd.DataFrame",
       "ref": "05c57abd-5146-4014-9b59-749b2af7ea77",
       "rows": [
        [
         "0",
         "2",
         "2012-08-16 00:00:00",
         "10",
         "155",
         "6",
         "-75.0",
         "739.0"
        ],
        [
         "1",
         "13",
         "2012-08-17 00:00:00",
         "11",
         "156",
         "6",
         "-76.0",
         "740.0"
        ],
        [
         "2",
         "24",
         "2012-08-18 00:00:00",
         "12",
         "156",
         "6",
         "-76.0",
         "741.0"
        ],
        [
         "3",
         "35",
         "2012-08-19 00:00:00",
         "13",
         "157",
         "6",
         "-74.0",
         "732.0"
        ],
        [
         "4",
         "46",
         "2012-08-20 00:00:00",
         "14",
         "157",
         "6",
         "-74.0",
         "740.0"
        ],
        [
         "5",
         "57",
         "2012-08-21 00:00:00",
         "15",
         "158",
         "6",
         "-78.0",
         "740.0"
        ],
        [
         "6",
         "68",
         "2012-08-22 00:00:00",
         "16",
         "158",
         "6",
         "-77.0",
         "740.0"
        ],
        [
         "7",
         "79",
         "2012-08-23 00:00:00",
         "17",
         "159",
         "6",
         "-76.0",
         "742.0"
        ],
        [
         "8",
         "112",
         "2012-08-27 00:00:00",
         "21",
         "161",
         "6",
         "-74.0",
         "741.0"
        ],
        [
         "9",
         "114",
         "2012-08-28 00:00:00",
         "22",
         "162",
         "6",
         "-74.0",
         "742.0"
        ],
        [
         "10",
         "123",
         "2012-08-29 00:00:00",
         "23",
         "162",
         "6",
         "-75.0",
         "741.0"
        ],
        [
         "11",
         "134",
         "2012-08-30 00:00:00",
         "24",
         "163",
         "6",
         "-75.0",
         "742.0"
        ],
        [
         "12",
         "145",
         "2012-08-31 00:00:00",
         "25",
         "163",
         "6",
         "-75.0",
         "743.0"
        ],
        [
         "13",
         "156",
         "2012-09-01 00:00:00",
         "26",
         "164",
         "6",
         "-76.0",
         "745.0"
        ],
        [
         "14",
         "163",
         "2012-09-02 00:00:00",
         "27",
         "164",
         "6",
         "-75.0",
         "743.0"
        ],
        [
         "15",
         "170",
         "2012-09-03 00:00:00",
         "28",
         "165",
         "6",
         "-75.0",
         "745.0"
        ],
        [
         "16",
         "171",
         "2012-09-04 00:00:00",
         "29",
         "166",
         "6",
         "-75.0",
         "747.0"
        ],
        [
         "17",
         "172",
         "2012-09-05 00:00:00",
         "30",
         "166",
         "6",
         "-74.0",
         "747.0"
        ],
        [
         "18",
         "173",
         "2012-09-06 00:00:00",
         "31",
         "167",
         "6",
         "-74.0",
         "745.0"
        ],
        [
         "19",
         "175",
         "2012-09-08 00:00:00",
         "33",
         "168",
         "6",
         "-73.0",
         "748.0"
        ],
        [
         "20",
         "176",
         "2012-09-10 00:00:00",
         "34",
         "168",
         "6",
         "-73.0",
         "748.0"
        ],
        [
         "21",
         "177",
         "2012-09-11 00:00:00",
         "35",
         "169",
         "6",
         "-73.0",
         "749.0"
        ],
        [
         "22",
         "178",
         "2012-09-12 00:00:00",
         "36",
         "169",
         "6",
         "-73.0",
         "750.0"
        ],
        [
         "23",
         "179",
         "2012-09-13 00:00:00",
         "37",
         "170",
         "6",
         "-73.0",
         "750.0"
        ],
        [
         "24",
         "180",
         "2012-09-14 00:00:00",
         "38",
         "171",
         "6",
         "-73.0",
         "750.0"
        ],
        [
         "25",
         "181",
         "2012-09-15 00:00:00",
         "39",
         "171",
         "6",
         "-75.0",
         "751.0"
        ],
        [
         "26",
         "182",
         "2012-09-16 00:00:00",
         "40",
         "172",
         "6",
         "-75.0",
         "753.0"
        ],
        [
         "27",
         "183",
         "2012-09-17 00:00:00",
         "41",
         "172",
         "6",
         "-75.0",
         "753.0"
        ],
        [
         "28",
         "184",
         "2012-09-18 00:00:00",
         "42",
         "173",
         "6",
         "-75.0",
         "754.0"
        ],
        [
         "29",
         "185",
         "2012-09-19 00:00:00",
         "43",
         "173",
         "6",
         "-74.0",
         "756.0"
        ],
        [
         "30",
         "186",
         "2012-09-20 00:00:00",
         "44",
         "174",
         "6",
         "-75.0",
         "757.0"
        ],
        [
         "31",
         "187",
         "2012-09-21 00:00:00",
         "45",
         "175",
         "6",
         "-74.0",
         "758.0"
        ],
        [
         "32",
         "188",
         "2012-09-22 00:00:00",
         "46",
         "175",
         "6",
         "-74.0",
         "758.0"
        ],
        [
         "33",
         "189",
         "2012-09-23 00:00:00",
         "47",
         "176",
         "6",
         "-75.0",
         "758.0"
        ],
        [
         "34",
         "190",
         "2012-09-24 00:00:00",
         "48",
         "176",
         "6",
         "-75.0",
         "759.0"
        ],
        [
         "35",
         "191",
         "2012-09-25 00:00:00",
         "49",
         "177",
         "6",
         "-74.0",
         "761.0"
        ],
        [
         "36",
         "192",
         "2012-09-26 00:00:00",
         "50",
         "177",
         "6",
         "-72.0",
         "761.0"
        ],
        [
         "37",
         "193",
         "2012-09-27 00:00:00",
         "51",
         "178",
         "6",
         "-76.0",
         "762.0"
        ],
        [
         "38",
         "194",
         "2012-09-28 00:00:00",
         "52",
         "179",
         "6",
         "-74.0",
         "762.0"
        ],
        [
         "39",
         "195",
         "2012-09-29 00:00:00",
         "53",
         "179",
         "6",
         "-71.0",
         "764.0"
        ],
        [
         "40",
         "196",
         "2012-09-30 00:00:00",
         "54",
         "180",
         "7",
         "-72.0",
         "766.0"
        ],
        [
         "41",
         "197",
         "2012-10-01 00:00:00",
         "55",
         "180",
         "7",
         "-74.0",
         "766.0"
        ],
        [
         "42",
         "198",
         "2012-10-02 00:00:00",
         "56",
         "181",
         "7",
         "-73.0",
         "768.0"
        ],
        [
         "43",
         "199",
         "2012-10-03 00:00:00",
         "57",
         "181",
         "7",
         "-73.0",
         "769.0"
        ],
        [
         "44",
         "200",
         "2012-10-04 00:00:00",
         "58",
         "182",
         "7",
         "-74.0",
         "769.0"
        ],
        [
         "45",
         "201",
         "2012-10-05 00:00:00",
         "59",
         "183",
         "7",
         "-76.0",
         "771.0"
        ],
        [
         "46",
         "202",
         "2012-10-06 00:00:00",
         "60",
         "183",
         "7",
         "-75.0",
         "772.0"
        ],
        [
         "47",
         "203",
         "2012-10-07 00:00:00",
         "61",
         "184",
         "7",
         "-72.0",
         "772.0"
        ],
        [
         "48",
         "204",
         "2012-10-08 00:00:00",
         "62",
         "184",
         "7",
         "-72.0",
         "774.0"
        ],
        [
         "49",
         "205",
         "2012-10-09 00:00:00",
         "63",
         "185",
         "7",
         "-73.0",
         "775.0"
        ]
       ],
       "shape": {
        "columns": 7,
        "rows": 1867
       }
      },
      "text/html": [
       "<div>\n",
       "<style scoped>\n",
       "    .dataframe tbody tr th:only-of-type {\n",
       "        vertical-align: middle;\n",
       "    }\n",
       "\n",
       "    .dataframe tbody tr th {\n",
       "        vertical-align: top;\n",
       "    }\n",
       "\n",
       "    .dataframe thead th {\n",
       "        text-align: right;\n",
       "    }\n",
       "</style>\n",
       "<table border=\"1\" class=\"dataframe\">\n",
       "  <thead>\n",
       "    <tr style=\"text-align: right;\">\n",
       "      <th></th>\n",
       "      <th>id</th>\n",
       "      <th>terrestrial_date</th>\n",
       "      <th>sol</th>\n",
       "      <th>ls</th>\n",
       "      <th>month</th>\n",
       "      <th>min_temp</th>\n",
       "      <th>pressure</th>\n",
       "    </tr>\n",
       "  </thead>\n",
       "  <tbody>\n",
       "    <tr>\n",
       "      <th>0</th>\n",
       "      <td>2</td>\n",
       "      <td>2012-08-16</td>\n",
       "      <td>10</td>\n",
       "      <td>155</td>\n",
       "      <td>6</td>\n",
       "      <td>-75.0</td>\n",
       "      <td>739.0</td>\n",
       "    </tr>\n",
       "    <tr>\n",
       "      <th>1</th>\n",
       "      <td>13</td>\n",
       "      <td>2012-08-17</td>\n",
       "      <td>11</td>\n",
       "      <td>156</td>\n",
       "      <td>6</td>\n",
       "      <td>-76.0</td>\n",
       "      <td>740.0</td>\n",
       "    </tr>\n",
       "    <tr>\n",
       "      <th>2</th>\n",
       "      <td>24</td>\n",
       "      <td>2012-08-18</td>\n",
       "      <td>12</td>\n",
       "      <td>156</td>\n",
       "      <td>6</td>\n",
       "      <td>-76.0</td>\n",
       "      <td>741.0</td>\n",
       "    </tr>\n",
       "    <tr>\n",
       "      <th>3</th>\n",
       "      <td>35</td>\n",
       "      <td>2012-08-19</td>\n",
       "      <td>13</td>\n",
       "      <td>157</td>\n",
       "      <td>6</td>\n",
       "      <td>-74.0</td>\n",
       "      <td>732.0</td>\n",
       "    </tr>\n",
       "    <tr>\n",
       "      <th>4</th>\n",
       "      <td>46</td>\n",
       "      <td>2012-08-20</td>\n",
       "      <td>14</td>\n",
       "      <td>157</td>\n",
       "      <td>6</td>\n",
       "      <td>-74.0</td>\n",
       "      <td>740.0</td>\n",
       "    </tr>\n",
       "    <tr>\n",
       "      <th>...</th>\n",
       "      <td>...</td>\n",
       "      <td>...</td>\n",
       "      <td>...</td>\n",
       "      <td>...</td>\n",
       "      <td>...</td>\n",
       "      <td>...</td>\n",
       "      <td>...</td>\n",
       "    </tr>\n",
       "    <tr>\n",
       "      <th>1862</th>\n",
       "      <td>1889</td>\n",
       "      <td>2018-02-23</td>\n",
       "      <td>1973</td>\n",
       "      <td>133</td>\n",
       "      <td>5</td>\n",
       "      <td>-78.0</td>\n",
       "      <td>730.0</td>\n",
       "    </tr>\n",
       "    <tr>\n",
       "      <th>1863</th>\n",
       "      <td>1892</td>\n",
       "      <td>2018-02-24</td>\n",
       "      <td>1974</td>\n",
       "      <td>134</td>\n",
       "      <td>5</td>\n",
       "      <td>-77.0</td>\n",
       "      <td>729.0</td>\n",
       "    </tr>\n",
       "    <tr>\n",
       "      <th>1864</th>\n",
       "      <td>1894</td>\n",
       "      <td>2018-02-25</td>\n",
       "      <td>1975</td>\n",
       "      <td>134</td>\n",
       "      <td>5</td>\n",
       "      <td>-76.0</td>\n",
       "      <td>729.0</td>\n",
       "    </tr>\n",
       "    <tr>\n",
       "      <th>1865</th>\n",
       "      <td>1893</td>\n",
       "      <td>2018-02-26</td>\n",
       "      <td>1976</td>\n",
       "      <td>135</td>\n",
       "      <td>5</td>\n",
       "      <td>-77.0</td>\n",
       "      <td>728.0</td>\n",
       "    </tr>\n",
       "    <tr>\n",
       "      <th>1866</th>\n",
       "      <td>1895</td>\n",
       "      <td>2018-02-27</td>\n",
       "      <td>1977</td>\n",
       "      <td>135</td>\n",
       "      <td>5</td>\n",
       "      <td>-77.0</td>\n",
       "      <td>727.0</td>\n",
       "    </tr>\n",
       "  </tbody>\n",
       "</table>\n",
       "<p>1867 rows × 7 columns</p>\n",
       "</div>"
      ],
      "text/plain": [
       "        id terrestrial_date   sol   ls  month  min_temp  pressure\n",
       "0        2       2012-08-16    10  155      6     -75.0     739.0\n",
       "1       13       2012-08-17    11  156      6     -76.0     740.0\n",
       "2       24       2012-08-18    12  156      6     -76.0     741.0\n",
       "3       35       2012-08-19    13  157      6     -74.0     732.0\n",
       "4       46       2012-08-20    14  157      6     -74.0     740.0\n",
       "...    ...              ...   ...  ...    ...       ...       ...\n",
       "1862  1889       2018-02-23  1973  133      5     -78.0     730.0\n",
       "1863  1892       2018-02-24  1974  134      5     -77.0     729.0\n",
       "1864  1894       2018-02-25  1975  134      5     -76.0     729.0\n",
       "1865  1893       2018-02-26  1976  135      5     -77.0     728.0\n",
       "1866  1895       2018-02-27  1977  135      5     -77.0     727.0\n",
       "\n",
       "[1867 rows x 7 columns]"
      ]
     },
     "execution_count": 12,
     "metadata": {},
     "output_type": "execute_result"
    }
   ],
   "source": [
    "# Change data types for data analysis\n",
    "# Use pd.to_datetime and .astype funtions to change the data types as follows: \n",
    "# Change terrestrial_date to date time. \n",
    "# Change sol, ls, and month to an integer. \n",
    "# Change min_temp and pressure to floats. \n",
    "temps_list_df[\"terrestrial_date\"] = pd.to_datetime(temps_list_df[\"terrestrial_date\"])\n",
    "temps_list_df[\"sol\"] = temps_list_df[\"sol\"].astype(int)\n",
    "temps_list_df[\"ls\"] = temps_list_df[\"ls\"].astype(int)\n",
    "temps_list_df[\"month\"] = temps_list_df[\"month\"].astype(int)\n",
    "temps_list_df[\"min_temp\"] = temps_list_df[\"min_temp\"].astype(float)\n",
    "temps_list_df[\"pressure\"] = temps_list_df[\"pressure\"].astype(float)\n",
    "temps_list_df"
   ]
  },
  {
   "cell_type": "code",
   "execution_count": 13,
   "metadata": {},
   "outputs": [
    {
     "name": "stdout",
     "output_type": "stream",
     "text": [
      "id                          object\n",
      "terrestrial_date    datetime64[ns]\n",
      "sol                          int64\n",
      "ls                           int64\n",
      "month                        int64\n",
      "min_temp                   float64\n",
      "pressure                   float64\n",
      "dtype: object\n"
     ]
    }
   ],
   "source": [
    "# Confirm type changes were successful by examining data types again\n",
    "print(temps_list_df.dtypes)"
   ]
  },
  {
   "attachments": {},
   "cell_type": "markdown",
   "metadata": {},
   "source": [
    "### Step 5: Analyze the Data\n",
    "\n",
    "Analyze your dataset by using Pandas functions to answer the following questions:\n",
    "\n",
    "1. How many months exist on Mars?\n",
    "2. How many Martian (and not Earth) days worth of data exist in the scraped dataset?\n",
    "3. What are the coldest and the warmest months on Mars (at the location of Curiosity)? To answer this question:\n",
    "    * Find the average the minimum daily temperature for all of the months.\n",
    "    * Plot the results as a bar chart.\n",
    "4. Which months have the lowest and the highest atmospheric pressure on Mars? To answer this question:\n",
    "    * Find the average the daily atmospheric pressure of all the months.\n",
    "    * Plot the results as a bar chart.\n",
    "5. About how many terrestrial (Earth) days exist in a Martian year? To answer this question:\n",
    "    * Consider how many days elapse on Earth in the time that Mars circles the Sun once.\n",
    "    * Visually estimate the result by plotting the daily minimum temperature.\n"
   ]
  },
  {
   "cell_type": "code",
   "execution_count": 14,
   "metadata": {},
   "outputs": [
    {
     "data": {
      "text/plain": [
       "12"
      ]
     },
     "execution_count": 14,
     "metadata": {},
     "output_type": "execute_result"
    }
   ],
   "source": [
    "# 1. How many months are there on Mars?\n",
    "martian_months = temps_list_df[\"month\"].nunique()\n",
    "martian_months"
   ]
  },
  {
   "cell_type": "code",
   "execution_count": 15,
   "metadata": {},
   "outputs": [
    {
     "data": {
      "text/plain": [
       "1867"
      ]
     },
     "execution_count": 15,
     "metadata": {},
     "output_type": "execute_result"
    }
   ],
   "source": [
    "# 2. How many sols (Martian days) worth of data are there?\n",
    "martian_days = temps_list_df[\"sol\"].nunique()\n",
    "martian_days"
   ]
  },
  {
   "cell_type": "code",
   "execution_count": 16,
   "metadata": {},
   "outputs": [
    {
     "data": {
      "application/vnd.microsoft.datawrangler.viewer.v0+json": {
       "columns": [
        {
         "name": "index",
         "rawType": "int64",
         "type": "integer"
        },
        {
         "name": "month",
         "rawType": "int64",
         "type": "integer"
        },
        {
         "name": "min_temp",
         "rawType": "float64",
         "type": "float"
        }
       ],
       "conversionMethod": "pd.DataFrame",
       "ref": "b3536cd6-db9f-4baf-8aff-e70a422c8281",
       "rows": [
        [
         "0",
         "1",
         "-77.16"
        ],
        [
         "1",
         "2",
         "-79.93"
        ],
        [
         "2",
         "3",
         "-83.31"
        ],
        [
         "3",
         "4",
         "-82.75"
        ],
        [
         "4",
         "5",
         "-79.31"
        ],
        [
         "5",
         "6",
         "-75.3"
        ],
        [
         "6",
         "7",
         "-72.28"
        ],
        [
         "7",
         "8",
         "-68.38"
        ],
        [
         "8",
         "9",
         "-69.17"
        ],
        [
         "9",
         "10",
         "-71.98"
        ],
        [
         "10",
         "11",
         "-71.99"
        ],
        [
         "11",
         "12",
         "-74.45"
        ]
       ],
       "shape": {
        "columns": 2,
        "rows": 12
       }
      },
      "text/html": [
       "<div>\n",
       "<style scoped>\n",
       "    .dataframe tbody tr th:only-of-type {\n",
       "        vertical-align: middle;\n",
       "    }\n",
       "\n",
       "    .dataframe tbody tr th {\n",
       "        vertical-align: top;\n",
       "    }\n",
       "\n",
       "    .dataframe thead th {\n",
       "        text-align: right;\n",
       "    }\n",
       "</style>\n",
       "<table border=\"1\" class=\"dataframe\">\n",
       "  <thead>\n",
       "    <tr style=\"text-align: right;\">\n",
       "      <th></th>\n",
       "      <th>month</th>\n",
       "      <th>min_temp</th>\n",
       "    </tr>\n",
       "  </thead>\n",
       "  <tbody>\n",
       "    <tr>\n",
       "      <th>0</th>\n",
       "      <td>1</td>\n",
       "      <td>-77.16</td>\n",
       "    </tr>\n",
       "    <tr>\n",
       "      <th>1</th>\n",
       "      <td>2</td>\n",
       "      <td>-79.93</td>\n",
       "    </tr>\n",
       "    <tr>\n",
       "      <th>2</th>\n",
       "      <td>3</td>\n",
       "      <td>-83.31</td>\n",
       "    </tr>\n",
       "    <tr>\n",
       "      <th>3</th>\n",
       "      <td>4</td>\n",
       "      <td>-82.75</td>\n",
       "    </tr>\n",
       "    <tr>\n",
       "      <th>4</th>\n",
       "      <td>5</td>\n",
       "      <td>-79.31</td>\n",
       "    </tr>\n",
       "    <tr>\n",
       "      <th>5</th>\n",
       "      <td>6</td>\n",
       "      <td>-75.30</td>\n",
       "    </tr>\n",
       "    <tr>\n",
       "      <th>6</th>\n",
       "      <td>7</td>\n",
       "      <td>-72.28</td>\n",
       "    </tr>\n",
       "    <tr>\n",
       "      <th>7</th>\n",
       "      <td>8</td>\n",
       "      <td>-68.38</td>\n",
       "    </tr>\n",
       "    <tr>\n",
       "      <th>8</th>\n",
       "      <td>9</td>\n",
       "      <td>-69.17</td>\n",
       "    </tr>\n",
       "    <tr>\n",
       "      <th>9</th>\n",
       "      <td>10</td>\n",
       "      <td>-71.98</td>\n",
       "    </tr>\n",
       "    <tr>\n",
       "      <th>10</th>\n",
       "      <td>11</td>\n",
       "      <td>-71.99</td>\n",
       "    </tr>\n",
       "    <tr>\n",
       "      <th>11</th>\n",
       "      <td>12</td>\n",
       "      <td>-74.45</td>\n",
       "    </tr>\n",
       "  </tbody>\n",
       "</table>\n",
       "</div>"
      ],
      "text/plain": [
       "    month  min_temp\n",
       "0       1    -77.16\n",
       "1       2    -79.93\n",
       "2       3    -83.31\n",
       "3       4    -82.75\n",
       "4       5    -79.31\n",
       "5       6    -75.30\n",
       "6       7    -72.28\n",
       "7       8    -68.38\n",
       "8       9    -69.17\n",
       "9      10    -71.98\n",
       "10     11    -71.99\n",
       "11     12    -74.45"
      ]
     },
     "execution_count": 16,
     "metadata": {},
     "output_type": "execute_result"
    }
   ],
   "source": [
    "# 3. What is the average minimum temperature by month?\n",
    "# Group by the month column and perform a .mean function. \n",
    "month_group = temps_list_df.groupby(\"month\")[\"min_temp\"].mean()\n",
    "month_group = month_group.round(2)\n",
    "month_group_df = pd.DataFrame(month_group)\n",
    "month_group_df = month_group_df.reset_index()\n",
    "month_group_df"
   ]
  },
  {
   "cell_type": "code",
   "execution_count": 17,
   "metadata": {},
   "outputs": [
    {
     "data": {
      "image/png": "[encoded data removed]",
      "text/plain": [
       "<Figure size 640x480 with 1 Axes>"
      ]
     },
     "metadata": {},
     "output_type": "display_data"
    }
   ],
   "source": [
    "# Plot the average minimum temperature by month\n",
    "# Use the month_group_df created in the step above. Set the ticks to the month. \n",
    "x_axis = month_group_df[\"month\"]\n",
    "y_axis = month_group_df['min_temp']\n",
    "plt.xticks(ticks=x_axis)\n",
    "plt.bar(x_axis, y_axis, color='b', align='center')\n",
    "plt.xlabel(\"Month\")\n",
    "plt.ylabel(\"Temperature in Celsius\")\n",
    "plt.title(\"Average Temperature on Mars in Celsius\")\n",
    "plt.show()\n"
   ]
  },
  {
   "cell_type": "code",
   "execution_count": 18,
   "metadata": {},
   "outputs": [
    {
     "data": {
      "image/png": "[encoded data removed]",
      "text/plain": [
       "<Figure size 640x480 with 1 Axes>"
      ]
     },
     "metadata": {},
     "output_type": "display_data"
    }
   ],
   "source": [
    "# Identify the coldest and hottest months in Curiosity's location by sorting the previous graph\n",
    "# Sort the month_group_df by the min_temp column. Store as a new df. \n",
    "sorted_df = month_group_df.sort_values(by=\"min_temp\", ascending=True)\n",
    "\n",
    "x_axis = sorted_df[\"month\"]\n",
    "y_axis = sorted_df['min_temp']\n",
    "# Reset the ticks. They sort numericly by default. \n",
    "plt.xticks(ticks=range(len(x_axis)), labels=x_axis)\n",
    "plt.bar(range(len(x_axis)), y_axis, color='b', align='center')\n",
    "plt.xlabel(\"Month\")\n",
    "plt.ylabel(\"Temperature in Celsius\")\n",
    "plt.title(\"Average Temperature on Mars in Celsius\")\n",
    "plt.show()"
   ]
  },
  {
   "cell_type": "code",
   "execution_count": 19,
   "metadata": {},
   "outputs": [
    {
     "data": {
      "application/vnd.microsoft.datawrangler.viewer.v0+json": {
       "columns": [
        {
         "name": "index",
         "rawType": "int64",
         "type": "integer"
        },
        {
         "name": "month",
         "rawType": "int64",
         "type": "integer"
        },
        {
         "name": "pressure",
         "rawType": "float64",
         "type": "float"
        }
       ],
       "conversionMethod": "pd.DataFrame",
       "ref": "ef8d05d8-2244-4448-835b-594df1a21af7",
       "rows": [
        [
         "0",
         "1",
         "862.49"
        ],
        [
         "1",
         "2",
         "889.46"
        ],
        [
         "2",
         "3",
         "877.32"
        ],
        [
         "3",
         "4",
         "806.33"
        ],
        [
         "4",
         "5",
         "748.56"
        ],
        [
         "5",
         "6",
         "745.05"
        ],
        [
         "6",
         "7",
         "795.11"
        ],
        [
         "7",
         "8",
         "873.83"
        ],
        [
         "8",
         "9",
         "913.31"
        ],
        [
         "9",
         "10",
         "887.31"
        ],
        [
         "10",
         "11",
         "857.01"
        ],
        [
         "11",
         "12",
         "842.16"
        ]
       ],
       "shape": {
        "columns": 2,
        "rows": 12
       }
      },
      "text/html": [
       "<div>\n",
       "<style scoped>\n",
       "    .dataframe tbody tr th:only-of-type {\n",
       "        vertical-align: middle;\n",
       "    }\n",
       "\n",
       "    .dataframe tbody tr th {\n",
       "        vertical-align: top;\n",
       "    }\n",
       "\n",
       "    .dataframe thead th {\n",
       "        text-align: right;\n",
       "    }\n",
       "</style>\n",
       "<table border=\"1\" class=\"dataframe\">\n",
       "  <thead>\n",
       "    <tr style=\"text-align: right;\">\n",
       "      <th></th>\n",
       "      <th>month</th>\n",
       "      <th>pressure</th>\n",
       "    </tr>\n",
       "  </thead>\n",
       "  <tbody>\n",
       "    <tr>\n",
       "      <th>0</th>\n",
       "      <td>1</td>\n",
       "      <td>862.49</td>\n",
       "    </tr>\n",
       "    <tr>\n",
       "      <th>1</th>\n",
       "      <td>2</td>\n",
       "      <td>889.46</td>\n",
       "    </tr>\n",
       "    <tr>\n",
       "      <th>2</th>\n",
       "      <td>3</td>\n",
       "      <td>877.32</td>\n",
       "    </tr>\n",
       "    <tr>\n",
       "      <th>3</th>\n",
       "      <td>4</td>\n",
       "      <td>806.33</td>\n",
       "    </tr>\n",
       "    <tr>\n",
       "      <th>4</th>\n",
       "      <td>5</td>\n",
       "      <td>748.56</td>\n",
       "    </tr>\n",
       "    <tr>\n",
       "      <th>5</th>\n",
       "      <td>6</td>\n",
       "      <td>745.05</td>\n",
       "    </tr>\n",
       "    <tr>\n",
       "      <th>6</th>\n",
       "      <td>7</td>\n",
       "      <td>795.11</td>\n",
       "    </tr>\n",
       "    <tr>\n",
       "      <th>7</th>\n",
       "      <td>8</td>\n",
       "      <td>873.83</td>\n",
       "    </tr>\n",
       "    <tr>\n",
       "      <th>8</th>\n",
       "      <td>9</td>\n",
       "      <td>913.31</td>\n",
       "    </tr>\n",
       "    <tr>\n",
       "      <th>9</th>\n",
       "      <td>10</td>\n",
       "      <td>887.31</td>\n",
       "    </tr>\n",
       "    <tr>\n",
       "      <th>10</th>\n",
       "      <td>11</td>\n",
       "      <td>857.01</td>\n",
       "    </tr>\n",
       "    <tr>\n",
       "      <th>11</th>\n",
       "      <td>12</td>\n",
       "      <td>842.16</td>\n",
       "    </tr>\n",
       "  </tbody>\n",
       "</table>\n",
       "</div>"
      ],
      "text/plain": [
       "    month  pressure\n",
       "0       1    862.49\n",
       "1       2    889.46\n",
       "2       3    877.32\n",
       "3       4    806.33\n",
       "4       5    748.56\n",
       "5       6    745.05\n",
       "6       7    795.11\n",
       "7       8    873.83\n",
       "8       9    913.31\n",
       "9      10    887.31\n",
       "10     11    857.01\n",
       "11     12    842.16"
      ]
     },
     "execution_count": 19,
     "metadata": {},
     "output_type": "execute_result"
    }
   ],
   "source": [
    "# 4. What is the average pressure by month?\n",
    "# Use a .groupby function on the temps_list_df and perform a .mean on pressure.  \n",
    "pressure_group = temps_list_df.groupby(\"month\")[\"pressure\"].mean()\n",
    "pressure_group = pressure_group.round(2)\n",
    "pressure_group_df = pd.DataFrame(pressure_group)\n",
    "pressure_group_df = pressure_group_df.reset_index()\n",
    "pressure_group_df"
   ]
  },
  {
   "cell_type": "code",
   "execution_count": 20,
   "metadata": {},
   "outputs": [
    {
     "data": {
      "image/png": "[encoded data removed]",
      "text/plain": [
       "<Figure size 640x480 with 1 Axes>"
      ]
     },
     "metadata": {},
     "output_type": "display_data"
    }
   ],
   "source": [
    "# Plot the average pressure by month\n",
    "# Use the pressure_group_df created in the previous step. \n",
    "x_axis = pressure_group_df[\"month\"]\n",
    "y_axis = pressure_group_df['pressure']\n",
    "plt.xticks(ticks=x_axis)\n",
    "plt.bar(x_axis, y_axis, color='b', align='center')\n",
    "plt.xlabel(\"Month\")\n",
    "plt.ylabel(\"Atmospheric Pressure in Pascals\")\n",
    "plt.title(\"Average Pressure on Mars by Month\")\n",
    "plt.show()"
   ]
  },
  {
   "cell_type": "code",
   "execution_count": 21,
   "metadata": {},
   "outputs": [
    {
     "data": {
      "image/png": "[encoded data removed]",
      "text/plain": [
       "<Figure size 640x480 with 1 Axes>"
      ]
     },
     "metadata": {},
     "output_type": "display_data"
    }
   ],
   "source": [
    "# Identify the lowest and highest pressure months in Curiosity's location by sorting the previous graph\n",
    "pressure_sorted_df = pressure_group_df.sort_values(by=\"pressure\", ascending=True)\n",
    "\n",
    "x_axis = pressure_sorted_df[\"month\"]\n",
    "y_axis = pressure_sorted_df['pressure']\n",
    "# reset the ticks so they show the correct month. \n",
    "plt.xticks(ticks=range(len(x_axis)), labels=x_axis)\n",
    "plt.bar(range(len(x_axis)), y_axis, color='b', align='center')\n",
    "plt.xlabel(\"Month\")\n",
    "plt.ylabel(\"Atmonspheric Pressure in Pascals\")\n",
    "plt.title(\"Average Pressure on Mars by Month\")\n",
    "plt.show()"
   ]
  },
  {
   "cell_type": "code",
   "execution_count": 22,
   "metadata": {},
   "outputs": [
    {
     "data": {
      "image/png": "[encoded data removed]",
      "text/plain": [
       "<Figure size 640x480 with 1 Axes>"
      ]
     },
     "metadata": {},
     "output_type": "display_data"
    }
   ],
   "source": [
    "# 5. How many terrestrial (Earth) days are there in a Martian year?\n",
    "# Visually estimate the result by plotting the daily minimum temperature of each observation in the data set.\n",
    "days = temps_list_df[\"sol\"]\n",
    "temp = temps_list_df[\"min_temp\"]\n",
    "\n",
    "plt.plot(days, temp, marker = '|', color='blue', label=\"Minimum Temperature\")\n",
    "plt.xticks(ticks=range(0, max(days) + 1, 250))\n",
    "plt.xlabel('Number of Terrestrial Days')\n",
    "plt.ylabel('Minimum Temperature in Celsius')\n",
    "plt.title(\"Temperature Changes in The Martian Year\")\n",
    "plt.legend()\n",
    "\n",
    "plt.show()"
   ]
  },
  {
   "attachments": {},
   "cell_type": "markdown",
   "metadata": {},
   "source": [
    "#### Minimum Temperature\n",
    "\n",
    "Based on the bar graph, \"Average Temperature on Mars in Celsius\", March is the coldest month of the Martian year. The average minimum temperature in March is approximately -85 degrees Celsius. This is a 15 degree difference from the warmest average month, August, with a balmy -70 degrees Celsius average minimum temperature. "
   ]
  },
  {
   "attachments": {},
   "cell_type": "markdown",
   "metadata": {},
   "source": [
    "#### Atmospheric Pressure\n",
    "\n",
    "A review of the graph \"Average Pressure on Mars by Month\" shows an average minimum pressure of about 750 Pa in  June. September has the highest average pressure at about 950 Pa. \n",
    "\n",
    "Note: According to the website science.nasa.gov, the Curiosity measures atmospheric pressure in the unit Pascals (Pa). Source: NASA (2012, November 15). Pressure Cycles on Mars. NASA.gov. Retrieved March 9, 2025, from https://science.nasa.gov/resource/pressure-cycles-on-mars/"
   ]
  },
  {
   "attachments": {},
   "cell_type": "markdown",
   "metadata": {},
   "source": [
    "#### Year Length\n",
    "\n",
    "One Martian year is equal to 1895 Terrestrial days. This is approximately 5.2 Earth years. The graph \"Temperature Changes in The Martian Year\" provides a visual representation of the temperature cycles in the Martian year. "
   ]
  },
  {
   "attachments": {},
   "cell_type": "markdown",
   "metadata": {},
   "source": [
    "### Step 6: Save the Data\n",
    "\n",
    "Export the DataFrame to a CSV file."
   ]
  },
  {
   "cell_type": "code",
   "execution_count": 23,
   "metadata": {},
   "outputs": [],
   "source": [
    "# Write the data to a CSV\n",
    "temps_list_df.to_csv(\"Output/mars_news_2.csv\", index = False, header = True)"
   ]
  },
  {
   "cell_type": "code",
   "execution_count": 24,
   "metadata": {},
   "outputs": [],
   "source": [
    "browser.quit()"
   ]
  }
 ],
 "metadata": {
  "kernelspec": {
   "display_name": "dev",
   "language": "python",
   "name": "python3"
  },
  "language_info": {
   "codemirror_mode": {
    "name": "ipython",
    "version": 3
   },
   "file_extension": ".py",
   "mimetype": "text/x-python",
   "name": "python",
   "nbconvert_exporter": "python",
   "pygments_lexer": "ipython3",
   "version": "3.10.16"
  }
 },
 "nbformat": 4,
 "nbformat_minor": 4
}
